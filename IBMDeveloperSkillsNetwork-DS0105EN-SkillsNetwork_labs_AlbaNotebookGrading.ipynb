{
  "metadata": {
    "language_info": {
      "codemirror_mode": {
        "name": "python",
        "version": 3
      },
      "file_extension": ".py",
      "mimetype": "text/x-python",
      "name": "python",
      "nbconvert_exporter": "python",
      "pygments_lexer": "ipython3",
      "version": "3.8"
    },
    "kernelspec": {
      "name": "python",
      "display_name": "Pyolite",
      "language": "python"
    }
  },
  "nbformat_minor": 4,
  "nbformat": 4,
  "cells": [
    {
      "cell_type": "markdown",
      "source": "# My Jupyter Notebook on IBM Watson Studio",
      "metadata": {}
    },
    {
      "cell_type": "markdown",
      "source": "**A.R.I**  \nScientist",
      "metadata": {}
    },
    {
      "cell_type": "markdown",
      "source": "_I am interested in data science because I want to contribute to the pharmacy industry by analysing data from complex experiments_",
      "metadata": {}
    },
    {
      "cell_type": "markdown",
      "source": "###The code below (cell 5) will calculate the average of two numbers",
      "metadata": {}
    },
    {
      "cell_type": "code",
      "source": "(10+20)/2",
      "metadata": {
        "trusted": true
      },
      "execution_count": 4,
      "outputs": [
        {
          "execution_count": 4,
          "output_type": "execute_result",
          "data": {
            "text/plain": "15.0"
          },
          "metadata": {}
        }
      ]
    },
    {
      "cell_type": "markdown",
      "source": "This is a Jutypet Notebook\n****\nAbove is a horizontal rule - wait, there was a mistake, ignore the strikethrough text ~~ignore this text~~ \n\nWhat formatting have I used here?\n\n- horizontal rule\n- strikethrough text\n- bulleted list\n\nDo I miss something?\n\n1. Numbered list\n2. Tables\n3. Images\n",
      "metadata": {}
    },
    {
      "cell_type": "code",
      "source": "",
      "metadata": {},
      "execution_count": null,
      "outputs": []
    }
  ]
}